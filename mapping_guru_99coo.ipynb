{
 "cells": [
  {
   "cell_type": "code",
   "execution_count": 44,
   "metadata": {},
   "outputs": [],
   "source": [
    "from datetime import datetime\n",
    "from string_matcher import ngrams,awesome_cossim_top,get_matches_df\n",
    "import pandas as pd, numpy as np, re, sparse_dot_topn.sparse_dot_topn as ct\n",
    "from sklearn.feature_extraction.text import TfidfVectorizer\n",
    "from scipy.sparse import csr_matrix\n",
    "from math import cos, asin, sqrt\n",
    "\n",
    "def convert_to_sqm(i):\n",
    "    return i/10.764\n",
    "\n",
    "def clean_price(i):\n",
    "    f_string = ''\n",
    "    for char in i:\n",
    "        if char.isnumeric():\n",
    "            f_string += char\n",
    "    return float(f_string)\n",
    "\n",
    "def clean_sqm(i):\n",
    "    i = i.replace(',','')\n",
    "    return float(i)\n",
    "\n",
    "def clean_address(s):\n",
    "    s = s.replace('AVENUE','AVE')\n",
    "    s = s.replace('STREET','ST')\n",
    "    s = s.replace('ROAD','RD')\n",
    "    s = s.replace('BLOCK','BLK')\n",
    "    s = s.replace('STREET','ST')\n",
    "    return s\n",
    "\n",
    "def distance(lat1, lon1, lat2, lon2):\n",
    "    p = 0.017453292519943295\n",
    "    a = 0.5 - cos((lat2-lat1)*p)/2 + cos(lat1*p)*cos(lat2*p) * (1-cos((lon2-lon1)*p)) / 2\n",
    "    return 12742 * asin(sqrt(a)) \n",
    "\n",
    "def closest(data, v):\n",
    "    t = min(data, key=lambda p: distance(v['lat'],v['lon'],p['lat'],p['lon']))\n",
    "    return distance(t['lat'],t['lon'],v['lat'],v['lon'])\n",
    "\n",
    "class mapping():\n",
    "    def __init__(self,geocode=True,include_buildings=True):\n",
    "        self.geocode = True\n",
    "        self.include_buildings = True\n",
    "\n",
    "    def add_buildings(self,df):\n",
    "        buildings = pd.read_json('singapore-postal-codes-master/buildings.json')\n",
    "        buildings.BUILDING = buildings.BUILDING.str.lower()\n",
    "        buildings.drop_duplicates('BUILDING',inplace=True)\n",
    "        places = {'primary_school':'primary school',\n",
    "                        'seconday_school':'secondary school|high school',\n",
    "                        'junior_college':'junior college',\n",
    "                        'polytechnic':'polytechnic',\n",
    "                        'mrt_lrt':'mrt|lrt',\n",
    "                        'preschool':'preschool'}\n",
    "        df.reset_index(inplace=True,drop=True)\n",
    "        for place in places:\n",
    "            search_key = places[place]\n",
    "            temp_df = buildings[buildings['BUILDING'].str.contains(search_key)][['LATITUDE','LONGTITUDE']]\n",
    "            temp_df.reset_index(inplace=True,drop=True)\n",
    "            places_lon_lat = []\n",
    "            for i in range(len(temp_df)):\n",
    "                temp_dict = {'lat':temp_df.loc[i,'LATITUDE'],'lon':temp_df.loc[i,'LONGTITUDE']}\n",
    "                places_lon_lat.append(temp_dict)\n",
    "            \n",
    "            df['distance_to_'+str(place)] = [closest(places_lon_lat,{'lat':df.loc[idx,'LAT'],'lon':df.loc[idx,'LON']}) for idx in range(len(df))]\n",
    "        return df\n",
    "\n",
    "    def transform(self,df,website):\n",
    "        self.df = df\n",
    "        if website == 'guru':\n",
    "            df['price'] = df['price'].apply(clean_price)\n",
    "            df['floor_area'] = df['floor_area'].apply(convert_to_sqm)\n",
    "            df['address'] = df['address'].str.upper()\n",
    "            df['address'] = df['address'].apply(clean_address)\n",
    "            df.dropna(inplace=True)\n",
    "            df.reset_index(inplace=True,drop=True)\n",
    "            df['year_built'] = df['year_built'].astype(int)\n",
    "            df['remaining_lease'] = 99 - (2020 - df['year_built'])\n",
    "            df.drop(['list_date','year_built','date_scraped'],axis=1,inplace=True)\n",
    "            df.rename({'bedrooms':'No of bedrooms','bathrooms':'No of bathrooms','floor_area':'floor_area_sqm'},inplace=True,axis=1)\n",
    "\n",
    "        elif website == '99co':\n",
    "            df['price'] = df['price'].apply(clean_price)\n",
    "            df['address'] = df['address'].str.upper()\n",
    "            df['address'] = df['address'].apply(clean_address)\n",
    "            df.dropna(inplace=True)\n",
    "            df.reset_index(inplace=True,drop=True)\n",
    "            df['year_built'] = df['year_built'].astype(int)\n",
    "            df['remaining_lease'] = 99 - (2020 - df['year_built'])\n",
    "            df.drop(['year_built','date_scraped'],axis=1,inplace=True)\n",
    "            df.rename({'bedrooms':'No of bedrooms','bathrooms':'No of bathrooms','floor_area':'floor_area_sqm'},inplace=True,axis=1)\n",
    "    \n",
    "        if self.geocode:\n",
    "            vectorizer = TfidfVectorizer(min_df=1,analyzer=ngrams)\n",
    "            geocode = pd.read_csv('hdb resale geocoded.csv')\n",
    "            geocode = geocode[['Address','LAT','LON']]\n",
    "            tf_idf_matrix_clean = vectorizer.fit_transform(geocode['Address'])\n",
    "            tf_idf_matrix_dirty = vectorizer.transform(df['address'])\n",
    "\n",
    "            matches = awesome_cossim_top(tf_idf_matrix_dirty,tf_idf_matrix_clean.transpose(),1,0)\n",
    "            matches_df = get_matches_df(matches,df['address'],geocode['Address'],top=0)\n",
    "\n",
    "            df = pd.merge(df,matches_df[['address','Address']],how='left',on='address')\n",
    "            df.drop_duplicates(inplace=True)\n",
    "            df = pd.merge(df,geocode,how='left',on='Address')\n",
    "            df.drop_duplicates(inplace=True)\n",
    "            df['floor_area_sqm'] = df['floor_area_sqm'].apply(clean_sqm)\n",
    "\n",
    "        if self.include_buildings:\n",
    "            df = self.add_buildings(df)\n",
    "\n",
    "        df = df[['No of bedrooms', 'No of bathrooms', 'floor_area_sqm',\n",
    "        'remaining_lease', 'LAT', 'LON', 'distance_to_primary_school',\n",
    "        'distance_to_seconday_school', 'distance_to_junior_college',\n",
    "        'distance_to_polytechnic', 'distance_to_mrt_lrt', 'distance_to_preschool','price', 'link']]\n",
    "        df.dropna(inplace=True)\n",
    "        return df"
   ]
  },
  {
   "cell_type": "code",
   "execution_count": 27,
   "metadata": {},
   "outputs": [],
   "source": [
    "df = pd.read_csv('property_guru.csv')"
   ]
  },
  {
   "cell_type": "code",
   "execution_count": 29,
   "metadata": {
    "tags": []
   },
   "outputs": [],
   "source": [
    "guru_reformatted = mapping().transform(df,website='guru')"
   ]
  },
  {
   "cell_type": "code",
   "execution_count": 35,
   "metadata": {},
   "outputs": [],
   "source": [
    "guru_reformatted.to_csv('guru_reformatted.csv',index=False)"
   ]
  },
  {
   "cell_type": "code",
   "execution_count": 45,
   "metadata": {
    "tags": []
   },
   "outputs": [],
   "source": [
    "co = pd.read_csv('99co.csv')"
   ]
  },
  {
   "cell_type": "code",
   "execution_count": 46,
   "metadata": {},
   "outputs": [],
   "source": [
    "co_reformatted = mapping().transform(co,website='99co')"
   ]
  },
  {
   "cell_type": "code",
   "execution_count": 47,
   "metadata": {},
   "outputs": [],
   "source": [
    "co_reformatted.to_csv('99co_reformatted.csv',index=False)"
   ]
  },
  {
   "cell_type": "code",
   "execution_count": null,
   "metadata": {},
   "outputs": [],
   "source": []
  }
 ],
 "metadata": {
  "kernelspec": {
   "display_name": "Python 3.7.4 64-bit ('base': conda)",
   "language": "python",
   "name": "python37464bitbasecondab51e9487b9504375abefc6705c21a662"
  },
  "language_info": {
   "codemirror_mode": {
    "name": "ipython",
    "version": 3
   },
   "file_extension": ".py",
   "mimetype": "text/x-python",
   "name": "python",
   "nbconvert_exporter": "python",
   "pygments_lexer": "ipython3",
   "version": "3.7.4"
  }
 },
 "nbformat": 4,
 "nbformat_minor": 2
}
