{
 "metadata": {
  "language_info": {
   "codemirror_mode": {
    "name": "ipython",
    "version": 3
   },
   "file_extension": ".py",
   "mimetype": "text/x-python",
   "name": "python",
   "nbconvert_exporter": "python",
   "pygments_lexer": "ipython3",
   "version": 3
  },
  "orig_nbformat": 2,
  "kernelspec": {
   "name": "python_defaultSpec_1595056821454",
   "display_name": "Python 3.7.4 64-bit ('base': conda)"
  }
 },
 "nbformat": 4,
 "nbformat_minor": 2,
 "cells": [
  {
   "cell_type": "code",
   "execution_count": 121,
   "metadata": {},
   "outputs": [],
   "source": [
    "import requests\n",
    "from bs4 import BeautifulSoup\n",
    "import pandas as pd\n",
    "from datetime import datetime\n",
    "from scraper_api import ScraperAPIClient\n",
    "client = ScraperAPIClient('4a7d740ef11cdfa724f5d93af70c9a65')\n",
    "\n",
    "def get_max_page(url,client):\n",
    "    r = client.get(url)\n",
    "    soup = BeautifulSoup(r.text)\n",
    "    last_page_page = soup.findAll('ul',{'class':'SearchPagination-links clearfix'})[0].findAll('li')[-2].text\n",
    "    return int(last_page_page)\n",
    "\n",
    "def scrape_99co(max_page,client):\n",
    "    main = pd.DataFrame()\n",
    "    for i in range(1,max_page+1):\n",
    "        try:\n",
    "            URL = 'https://www.99.co/singapore/sale/hdb?page_num='+str(i)\n",
    "            r = client.get(URL)\n",
    "            soup = BeautifulSoup(r.text)\n",
    "            t_s = soup.findAll('div',{'style':'max-height:270px;opacity:1'})\n",
    "        except:\n",
    "            continue\n",
    "\n",
    "        for t in t_s:\n",
    "            try:\n",
    "                detail_1 = t.find('div',{'class':'_1w7Su'})\n",
    "                address = detail_1.find('h3',{'class':'_2ncUp _1T6Ql'}).text\n",
    "                postal = detail_1.findAll('p',{'class':'x0JSc TMSN-'})[0].text.split('·')[0].strip()\n",
    "                # years = detail_1.findAll('p',{'class':'x0JSc TMSN-'})[-1].text.split('·')[-1].split(' ')[1]\n",
    "                year_built = detail_1.findAll('p',{'class':'x0JSc TMSN-'})[-1].text.split('·')[0].split(' ')[0]\n",
    "\n",
    "                detail_2 = t.find('div',{'class':'QyDYr'})\n",
    "                price = detail_2.find('h3',{'class':'_2ncUp _1T6Ql'}).text\n",
    "                bedrooms = detail_2.findAll('p',{'class':'x0JSc TMSN-'})[0].text.split()[0]\n",
    "                bathrooms = detail_2.findAll('p',{'class':'x0JSc TMSN-'})[0].text.split()[1]\n",
    "                floor_area = detail_2.findAll('p',{'class':'x0JSc TMSN-'})[-1].text.split('/')[-1].strip().split()[0]\n",
    "\n",
    "                link = 'https://www.99.co' + t.find('a',{'class':'_17qrb _3uV4l'})['href']\n",
    "                temp = pd.DataFrame([[address,link,price,bedrooms,bathrooms,floor_area,year_built]])\n",
    "                main = main.append(temp)\n",
    "            except:\n",
    "                continue\n",
    "    main.columns = ['address','link','price','bedrooms','bathrooms','floor_area','year_built']\n",
    "    main['date_scraped'] = datetime.now()\n",
    "    return main"
   ]
  },
  {
   "cell_type": "code",
   "execution_count": 110,
   "metadata": {},
   "outputs": [],
   "source": [
    "url = 'https://www.99.co/singapore/sale/hdb?page_num=1'\n",
    "max_page = get_max_page(url,client)"
   ]
  },
  {
   "cell_type": "code",
   "execution_count": 120,
   "metadata": {},
   "outputs": [
    {
     "output_type": "execute_result",
     "data": {
      "text/plain": "228"
     },
     "metadata": {},
     "execution_count": 120
    }
   ],
   "source": [
    "max_page"
   ]
  },
  {
   "cell_type": "code",
   "execution_count": 122,
   "metadata": {},
   "outputs": [],
   "source": [
    "df = scrape_99co(max_page,client)"
   ]
  },
  {
   "cell_type": "code",
   "execution_count": 123,
   "metadata": {},
   "outputs": [],
   "source": [
    "df.to_csv('99co.csv',index=False)"
   ]
  },
  {
   "cell_type": "code",
   "execution_count": 125,
   "metadata": {
    "tags": []
   },
   "outputs": [
    {
     "output_type": "stream",
     "name": "stdout",
     "text": "<class 'pandas.core.frame.DataFrame'>\nInt64Index: 7672 entries, 0 to 0\nData columns (total 8 columns):\n #   Column        Non-Null Count  Dtype         \n---  ------        --------------  -----         \n 0   address       7672 non-null   object        \n 1   link          7672 non-null   object        \n 2   price         7672 non-null   object        \n 3   bedrooms      7672 non-null   object        \n 4   bathrooms     7672 non-null   object        \n 5   floor_area    7672 non-null   object        \n 6   year_built    7672 non-null   object        \n 7   date_scraped  7672 non-null   datetime64[ns]\ndtypes: datetime64[ns](1), object(7)\nmemory usage: 539.4+ KB\n"
    }
   ],
   "source": []
  },
  {
   "cell_type": "code",
   "execution_count": null,
   "metadata": {},
   "outputs": [],
   "source": []
  }
 ]
}